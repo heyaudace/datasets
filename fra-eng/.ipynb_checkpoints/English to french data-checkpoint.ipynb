{
 "cells": [
  {
   "cell_type": "code",
   "execution_count": 16,
   "metadata": {},
   "outputs": [],
   "source": [
    "with open('fra.txt', 'rb') as f:\n",
    "    string = f.read().decode()"
   ]
  },
  {
   "cell_type": "code",
   "execution_count": 17,
   "metadata": {},
   "outputs": [],
   "source": [
    "lines = string.split('\\n')"
   ]
  },
  {
   "cell_type": "code",
   "execution_count": 33,
   "metadata": {},
   "outputs": [],
   "source": [
    "linelist = []\n",
    "linelist = list(map(lambda x: tuple(x.split(\"\\t\")), lines))"
   ]
  },
  {
   "cell_type": "code",
   "execution_count": 34,
   "metadata": {},
   "outputs": [
    {
     "data": {
      "text/plain": [
       "[(\"I'm OK.\", 'Ça va.'),\n",
       " ('Listen.', 'Écoutez !'),\n",
       " ('No way!', \"C'est pas possible\\u202f!\"),\n",
       " ('No way!', 'Impossible\\u202f!'),\n",
       " ('No way!', 'En aucun cas.'),\n",
       " ('No way!', 'Sans façons\\u202f!'),\n",
       " ('No way!', \"C'est hors de question !\"),\n",
       " ('No way!', \"Il n'en est pas question !\"),\n",
       " ('No way!', \"C'est exclu !\"),\n",
       " ('No way!', 'En aucune manière !'),\n",
       " ('No way!', 'Hors de question !'),\n",
       " ('Really?', 'Vraiment\\u202f?'),\n",
       " ('Really?', 'Vrai ?'),\n",
       " ('Really?', 'Ah bon ?'),\n",
       " ('Thanks.', 'Merci !'),\n",
       " ('We try.', 'On essaye.'),\n",
       " ('We won.', 'Nous avons gagné.'),\n",
       " ('We won.', 'Nous gagnâmes.'),\n",
       " ('We won.', \"Nous l'avons emporté.\"),\n",
       " ('We won.', \"Nous l'emportâmes.\"),\n",
       " ('Ask Tom.', 'Demande à Tom.'),\n",
       " ('Awesome!', 'Fantastique\\u202f!'),\n",
       " ('Be calm.', 'Sois calme !'),\n",
       " ('Be calm.', 'Soyez calme !'),\n",
       " ('Be calm.', 'Soyez calmes !'),\n",
       " ('Be cool.', 'Sois détendu !'),\n",
       " ('Be fair.', 'Sois juste !'),\n",
       " ('Be fair.', 'Soyez juste !'),\n",
       " ('Be fair.', 'Soyez justes !'),\n",
       " ('Be fair.', 'Sois équitable !'),\n",
       " ('Be fair.', 'Soyez équitable !'),\n",
       " ('Be fair.', 'Soyez équitables !'),\n",
       " ('Be kind.', 'Sois gentil.'),\n",
       " ('Be nice.', 'Sois gentil !'),\n",
       " ('Be nice.', 'Sois gentille !'),\n",
       " ('Be nice.', 'Soyez gentil !'),\n",
       " ('Be nice.', 'Soyez gentille !'),\n",
       " ('Be nice.', 'Soyez gentils !'),\n",
       " ('Be nice.', 'Soyez gentilles !'),\n",
       " ('Beat it.', 'Dégage\\u202f!'),\n",
       " ('Call me.', 'Appelle-moi !'),\n",
       " ('Call me.', 'Appellez-moi !'),\n",
       " ('Call us.', 'Appelle-nous !'),\n",
       " ('Call us.', 'Appelez-nous !'),\n",
       " ('Come in.', 'Entrez\\u202f!'),\n",
       " ('Come in.', 'Entre.'),\n",
       " ('Come in.', 'Entre !'),\n",
       " ('Come in.', 'Entrez !'),\n",
       " ('Come on!', 'Allez\\u202f!'),\n",
       " ('Come on.', 'Allez !')]"
      ]
     },
     "execution_count": 34,
     "metadata": {},
     "output_type": "execute_result"
    }
   ],
   "source": [
    "linelist[50:100]"
   ]
  },
  {
   "cell_type": "code",
   "execution_count": 24,
   "metadata": {},
   "outputs": [],
   "source": [
    "import pandas as pd"
   ]
  },
  {
   "cell_type": "code",
   "execution_count": 43,
   "metadata": {},
   "outputs": [],
   "source": [
    "columns = [\"English\", \"French\"]\n",
    "df = pd.DataFrame(columns=columns)"
   ]
  },
  {
   "cell_type": "code",
   "execution_count": null,
   "metadata": {},
   "outputs": [],
   "source": [
    "for index, line in enumerate(linelist):\n",
    "    if index % 10000 == 0:\n",
    "        print(df.shape)\n",
    "    df.append({\"English\": \"Home\", \"French\":\"Go\"}, ignore_index=True)\n",
    "    print(df.shape)"
   ]
  },
  {
   "cell_type": "code",
   "execution_count": 45,
   "metadata": {},
   "outputs": [
    {
     "data": {
      "text/html": [
       "<div>\n",
       "<style scoped>\n",
       "    .dataframe tbody tr th:only-of-type {\n",
       "        vertical-align: middle;\n",
       "    }\n",
       "\n",
       "    .dataframe tbody tr th {\n",
       "        vertical-align: top;\n",
       "    }\n",
       "\n",
       "    .dataframe thead th {\n",
       "        text-align: right;\n",
       "    }\n",
       "</style>\n",
       "<table border=\"1\" class=\"dataframe\">\n",
       "  <thead>\n",
       "    <tr style=\"text-align: right;\">\n",
       "      <th></th>\n",
       "      <th>English</th>\n",
       "      <th>French</th>\n",
       "    </tr>\n",
       "  </thead>\n",
       "  <tbody>\n",
       "  </tbody>\n",
       "</table>\n",
       "</div>"
      ],
      "text/plain": [
       "Empty DataFrame\n",
       "Columns: [English, French]\n",
       "Index: []"
      ]
     },
     "execution_count": 45,
     "metadata": {},
     "output_type": "execute_result"
    }
   ],
   "source": [
    "df.head()"
   ]
  },
  {
   "cell_type": "code",
   "execution_count": 47,
   "metadata": {},
   "outputs": [
    {
     "data": {
      "text/html": [
       "<div>\n",
       "<style scoped>\n",
       "    .dataframe tbody tr th:only-of-type {\n",
       "        vertical-align: middle;\n",
       "    }\n",
       "\n",
       "    .dataframe tbody tr th {\n",
       "        vertical-align: top;\n",
       "    }\n",
       "\n",
       "    .dataframe thead th {\n",
       "        text-align: right;\n",
       "    }\n",
       "</style>\n",
       "<table border=\"1\" class=\"dataframe\">\n",
       "  <thead>\n",
       "    <tr style=\"text-align: right;\">\n",
       "      <th></th>\n",
       "      <th>English</th>\n",
       "      <th>French</th>\n",
       "    </tr>\n",
       "  </thead>\n",
       "  <tbody>\n",
       "    <tr>\n",
       "      <th>0</th>\n",
       "      <td>Home</td>\n",
       "      <td>Go</td>\n",
       "    </tr>\n",
       "  </tbody>\n",
       "</table>\n",
       "</div>"
      ],
      "text/plain": [
       "  English French\n",
       "0    Home     Go"
      ]
     },
     "execution_count": 47,
     "metadata": {},
     "output_type": "execute_result"
    }
   ],
   "source": []
  },
  {
   "cell_type": "code",
   "execution_count": null,
   "metadata": {},
   "outputs": [],
   "source": []
  }
 ],
 "metadata": {
  "kernelspec": {
   "display_name": "Python 3",
   "language": "python",
   "name": "python3"
  },
  "language_info": {
   "codemirror_mode": {
    "name": "ipython",
    "version": 3
   },
   "file_extension": ".py",
   "mimetype": "text/x-python",
   "name": "python",
   "nbconvert_exporter": "python",
   "pygments_lexer": "ipython3",
   "version": "3.6.8"
  }
 },
 "nbformat": 4,
 "nbformat_minor": 2
}
